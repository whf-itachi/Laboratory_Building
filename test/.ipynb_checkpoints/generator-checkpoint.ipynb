{
 "cells": [
  {
   "cell_type": "markdown",
   "metadata": {},
   "source": [
    "# 生成器"
   ]
  },
  {
   "cell_type": "code",
   "execution_count": null,
   "metadata": {},
   "outputs": [],
   "source": [
    "生成器:generator,是一类特殊的迭代器.\n",
    "> 1. 创建方法一:将列表推导式的[]改为()即可.\n",
    "> 2. 在函数中使用yield关键字."
   ]
  },
  {
   "cell_type": "code",
   "execution_count": 10,
   "metadata": {},
   "outputs": [
    {
     "name": "stdout",
     "output_type": "stream",
     "text": [
      "0\n",
      "2\n",
      "4\n",
      "6\n",
      "8\n"
     ]
    }
   ],
   "source": [
    "G = ( x*2 for x in range(5))\n",
    "G\n",
    "print(next(G))\n",
    "for i in G:\n",
    "    print(i)"
   ]
  },
  {
   "cell_type": "code",
   "execution_count": 2,
   "metadata": {},
   "outputs": [
    {
     "name": "stdout",
     "output_type": "stream",
     "text": [
      "0\n",
      "1\n",
      "1\n",
      "2\n",
      "3\n",
      "5\n"
     ]
    }
   ],
   "source": [
    "def fib(n):\n",
    "    current = 0\n",
    "    num1, num2 = 0, 1\n",
    "    while current < n:\n",
    "        num = num1\n",
    "        num1, num2 = num2, num1+num2\n",
    "        current += 1\n",
    "        yield num\n",
    "    return 'done'\n",
    "\n",
    "for i in fib(6):\n",
    "    print(i)\n"
   ]
  },
  {
   "cell_type": "markdown",
   "metadata": {},
   "source": [
    "# 斐波拉契数列\n"
   ]
  },
  {
   "cell_type": "code",
   "execution_count": 14,
   "metadata": {},
   "outputs": [
    {
     "name": "stdout",
     "output_type": "stream",
     "text": [
      "0\n",
      "1\n",
      "1\n",
      "2\n",
      "3\n",
      "5\n"
     ]
    }
   ],
   "source": [
    "# 如果使用迭代器来实现的话比较麻烦,代码如下:\n",
    "\n",
    "class FibIterator(object):\n",
    "    \"\"\"斐波那契数列迭代器\"\"\"\n",
    "    def __init__(self, n):\n",
    "        \"\"\"\n",
    "        :param n: int, 指明生成数列的前n个数\n",
    "        \"\"\"\n",
    "        self.n = n\n",
    "        # current用来保存当前生成到数列中的第几个数了\n",
    "        self.current = 0\n",
    "        # num1用来保存前前一个数，初始值为数列中的第一个数0\n",
    "        self.num1 = 0\n",
    "        # num2用来保存前一个数，初始值为数列中的第二个数1\n",
    "        self.num2 = 1\n",
    "\n",
    "    def __next__(self):\n",
    "        \"\"\"被next()函数调用来获取下一个数\"\"\"\n",
    "        if self.current < self.n:\n",
    "            num = self.num1\n",
    "            self.num1, self.num2 = self.num2, self.num1+self.num2\n",
    "            self.current += 1\n",
    "            return num\n",
    "        else:\n",
    "            raise StopIteration\n",
    "\n",
    "    def __iter__(self):\n",
    "        \"\"\"迭代器的__iter__返回自身即可\"\"\"\n",
    "        return self\n",
    "\n",
    "c = FibIterator(6)\n",
    "for i in c:\n",
    "    print(i)\n"
   ]
  },
  {
   "cell_type": "code",
   "execution_count": 11,
   "metadata": {},
   "outputs": [
    {
     "name": "stdout",
     "output_type": "stream",
     "text": [
      "0\n",
      "1\n",
      "1\n",
      "2\n",
      "3\n",
      "5\n"
     ]
    }
   ],
   "source": [
    "# 使用生成器就简洁多了:\n",
    "def fib(n):\n",
    "    current = 0\n",
    "    num1, num2 = 0, 1\n",
    "    while current < n:\n",
    "        num = num1\n",
    "        num1, num2 = num2, num1+num2\n",
    "        current += 1\n",
    "        yield num\n",
    "    return 'done'\n",
    "\n",
    "\n",
    "for i in fib(6):\n",
    "    print(i)"
   ]
  },
  {
   "cell_type": "markdown",
   "metadata": {},
   "source": [
    "# python的列表推导式\n",
    "\n",
    "列表推导能非常简洁的构造一个新列表:只用一条简洁的表达式即可对得到的元素进行转换变形。\n",
    "\n",
    "书写格式为:\n",
    "\n",
    "`[表达式 for 变量 in 列表]    \n",
    "或者  \n",
    "[表达式 for 变量 in 列表 if 条件]`"
   ]
  },
  {
   "cell_type": "markdown",
   "metadata": {},
   "source": [
    "# 列表推导式的复杂应用"
   ]
  },
  {
   "cell_type": "code",
   "execution_count": 30,
   "metadata": {},
   "outputs": [
    {
     "name": "stdout",
     "output_type": "stream",
     "text": [
      "2-50内的质数： [3, 5, 7, 11, 13, 17, 19, 23, 29, 31, 37, 41, 43, 47]\n"
     ]
    }
   ],
   "source": [
    "#找出质数\n",
    "#一般方法\n",
    "compositeNumber = []\n",
    "num = []\n",
    "#合数一般都是2-7的倍数\n",
    "for i in range(2,8):\n",
    "#4是最小的合数，找出50以内的所有合数\n",
    "    for j in range(2*i, 50, i):\n",
    "        compositeNumber.append(j)\n",
    "for x  in range(3,50):\n",
    "    if x not in compositeNumber:\n",
    "        num.append(x)\n",
    "print('2-50内的质数：',num)\n"
   ]
  },
  {
   "cell_type": "code",
   "execution_count": 31,
   "metadata": {},
   "outputs": [
    {
     "name": "stdout",
     "output_type": "stream",
     "text": [
      "2-50内的质数(嵌套列表推导)： [3, 5, 7, 11, 13, 17, 19, 23, 29, 31, 37, 41, 43, 47]\n"
     ]
    }
   ],
   "source": [
    "num = [x for x in range(3,50) if x not in [j for i in range(2,8) for j in range(i*2,50,i)]]\n",
    "print('2-50内的质数(嵌套列表推导)：',num)"
   ]
  },
  {
   "cell_type": "markdown",
   "metadata": {},
   "source": [
    "# 字典推导式\n",
    "\n",
    "字典和集合推导式是上面思想的延续，语法差不多，只不过产生的是集合和字典而已。"
   ]
  },
  {
   "cell_type": "code",
   "execution_count": 32,
   "metadata": {},
   "outputs": [
    {
     "name": "stdout",
     "output_type": "stream",
     "text": [
      "{0: 's', 1: 'd', 2: 'e', 3: 'r', 4: 'f', 5: 's', 6: 'd', 7: 'f', 8: 'f', 9: 's', 10: 'd', 11: 'f', 12: 'd', 13: 's', 14: 'a'}\n"
     ]
    }
   ],
   "source": [
    "str = 'sderfsdffsdfdsa'\n",
    "#用字典推导式\n",
    "dictionary = {key : val for key,val in enumerate(str)}\n",
    "print(dictionary)"
   ]
  },
  {
   "cell_type": "markdown",
   "metadata": {},
   "source": [
    "### enumerate() 函数用于将一个可遍历的数据对象(如列表、元组或字符串)组合为一个索引序列，同时列出数据和数据下标，一般用在 for 循环当中"
   ]
  },
  {
   "cell_type": "code",
   "execution_count": 33,
   "metadata": {},
   "outputs": [
    {
     "name": "stdout",
     "output_type": "stream",
     "text": [
      "[(0, 'Spring'), (1, 'Summer'), (2, 'Fall'), (3, 'Winter')]\n"
     ]
    }
   ],
   "source": [
    "seasons = ['Spring', 'Summer', 'Fall', 'Winter']\n",
    "print(list(enumerate(seasons)))"
   ]
  },
  {
   "cell_type": "code",
   "execution_count": 37,
   "metadata": {},
   "outputs": [
    {
     "name": "stdout",
     "output_type": "stream",
     "text": [
      "[(2, 'Spring'), (3, 'Summer'), (4, 'Fall'), (5, 'Winter')]\n"
     ]
    }
   ],
   "source": [
    "seasons_1 = ['Spring', 'Summer', 'Fall', 'Winter']\n",
    "print(list(enumerate(seasons_1, start=2))) # 下标从 2 开始"
   ]
  },
  {
   "cell_type": "code",
   "execution_count": 39,
   "metadata": {
    "scrolled": true
   },
   "outputs": [
    {
     "name": "stdout",
     "output_type": "stream",
     "text": [
      "<class 'enumerate'>\n",
      "(0, 'Spring')\n",
      "(1, 'Summer')\n",
      "(2, 'Fall')\n",
      "(3, 'Winter')\n"
     ]
    }
   ],
   "source": [
    "seasons = ['Spring', 'Summer', 'Fall', 'Winter']\n",
    "print(type(enumerate(seasons)))\n",
    "for i in enumerate(seasons):  # 由此可见enumerate返回的是一个可迭代枚举对象\n",
    "    print(i)"
   ]
  },
  {
   "cell_type": "markdown",
   "metadata": {},
   "source": [
    "# 集合推导式"
   ]
  },
  {
   "cell_type": "code",
   "execution_count": 40,
   "metadata": {},
   "outputs": [
    {
     "name": "stdout",
     "output_type": "stream",
     "text": [
      "{1, 2, 4, 9}\n"
     ]
    }
   ],
   "source": [
    "strings = ['a','is','with','if','file','exception']\n",
    "print({len(s) for s in strings}) #有长度相同的会只留一个，这在实际上也非常"
   ]
  },
  {
   "cell_type": "code",
   "execution_count": null,
   "metadata": {},
   "outputs": [],
   "source": []
  }
 ],
 "metadata": {
  "kernelspec": {
   "display_name": "Python 3",
   "language": "python",
   "name": "python3"
  },
  "language_info": {
   "codemirror_mode": {
    "name": "ipython",
    "version": 3
   },
   "file_extension": ".py",
   "mimetype": "text/x-python",
   "name": "python",
   "nbconvert_exporter": "python",
   "pygments_lexer": "ipython3",
   "version": "3.6.7"
  }
 },
 "nbformat": 4,
 "nbformat_minor": 2
}
