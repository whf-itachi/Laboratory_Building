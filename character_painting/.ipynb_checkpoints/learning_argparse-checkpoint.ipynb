{
 "cells": [
  {
   "cell_type": "code",
   "execution_count": null,
   "metadata": {},
   "outputs": [],
   "source": [
    "import argparse\n",
    "\n",
    "parser = argparse.ArgumentParser()\n",
    "# 方法add_argument() 用来指定程序需要接受的命令参数 本例中的 echo\n",
    "parser.add_argument(\"echo\")\n",
    "# 方法parse_args()通过分析参数返回一些数据\n",
    "args = parser.parse_args()\n",
    "# 像魔法方法一样,argparse自动生成变量 echo 与我们指定的参数echo相同\n",
    "print(args.echo)"
   ]
  },
  {
   "cell_type": "code",
   "execution_count": null,
   "metadata": {},
   "outputs": [],
   "source": [
    "import argparse\n",
    "\n",
    "parser = argparse.ArgumentParser()\n",
    "parser.add_argument(\"square\", help=\"display a square of a given number\")\n",
    "args = parser.parse_args()\n",
    "\n",
    "# 运行有点问题，因为如果不指定参数类型，argparse默认它是字符串。因此我们需要告诉argparse该参数是整型。\n",
    "print(args.square**2)\n",
    "\n",
    "# 运行结果\n",
    "Traceback (most recent call last):\n",
    "  File \"learning_argparse.py\", line 6, in <module>\n",
    "    print(args.square**2)\n",
    "TypeError: unsupported operand type(s) for ** or pow(): 'str' and 'int'"
   ]
  },
  {
   "cell_type": "code",
   "execution_count": null,
   "metadata": {},
   "outputs": [],
   "source": [
    "import argparse\n",
    "\n",
    "parser = argparse.ArgumentParser()\n",
    "parser.add_argument(\"square\", help=\"display a square of a given number\", type=int)\n",
    "args = parser.parse_args()\n",
    "\n",
    "print(args.square**2)\n",
    "\n",
    "# 执行:\n",
    "python3 learning_argparse.py 4\n",
    "# 运行结果\n",
    "16"
   ]
  },
  {
   "cell_type": "markdown",
   "metadata": {},
   "source": [
    "# 可选参数"
   ]
  },
  {
   "cell_type": "code",
   "execution_count": null,
   "metadata": {},
   "outputs": [],
   "source": [
    "import argparse\n",
    "\n",
    "# 可选参数\n",
    "parser = argparse.ArgumentParser()\n",
    "# 当指定--verbosity时程序就显示一些东西，没指定的时候就不显示。这个参数事实上是可选的，不指定它也不会出错。如果不指定可选的参数，对应的变量就被设置为None\n",
    "parser.add_argument(\"--verbosity\", help=\"increase output verbosity\")\n",
    "args = parser.parse_args()\n",
    "if args.verbosity:\n",
    "    print(\"verbosity turned on {}\".format(args.verbosity))\n",
    " \n",
    "# 执行:\n",
    "python3 learning_argparse.py --verbosity 1\n",
    "# 运行结果\n",
    "verbosity turned on 1"
   ]
  },
  {
   "cell_type": "markdown",
   "metadata": {},
   "source": [
    "## 接受布尔值参数"
   ]
  },
  {
   "cell_type": "code",
   "execution_count": null,
   "metadata": {},
   "outputs": [],
   "source": [
    "parser = argparse.ArgumentParser()\n",
    "# 现在多加一个标志来替代必须给出一些值，并修改了名称来表达我们的意思。注意现在指定了一个新的关键词action，并且赋值为store_ture。如果指定了这个可选参数，args.verbose就赋值为True,否则就为False。\n",
    "parser.add_argument(\"--verbosity\", help=\"increase output verbosity\", action=\"store_true\")\n",
    "args = parser.parse_args()\n",
    "if args.verbosity:\n",
    "    print(\"verbosity turned on {}\".format(args.verbosity))\n",
    "\n",
    "# 注:即 传入参数即值为真,不传就为假"
   ]
  },
  {
   "cell_type": "markdown",
   "metadata": {},
   "source": [
    "# 简写"
   ]
  },
  {
   "cell_type": "code",
   "execution_count": null,
   "metadata": {},
   "outputs": [],
   "source": [
    "# 简写\n",
    "import argparse\n",
    "parser = argparse.ArgumentParser()\n",
    "parser.add_argument(\"-v\", \"--verbose\", help=\"increase output verbosity\")\n",
    "args = parser.parse_args()\n",
    "if args.verbose:\n",
    "    print(\"verbosity turned on {}\".format(args.verbose))\n",
    "\n",
    "# 执行\n",
    "python3 learning_argparse.py -v 500\n",
    "# 运行结果\n",
    "verbosity turned on 500"
   ]
  },
  {
   "cell_type": "markdown",
   "metadata": {},
   "source": [
    "# 混合使用定位参数和可选参数"
   ]
  },
  {
   "cell_type": "code",
   "execution_count": null,
   "metadata": {},
   "outputs": [],
   "source": [
    "import argparse\n",
    "parser = argparse.ArgumentParser()\n",
    "parser.add_argument(\"square\", type=int,\n",
    "                    help=\"display a square of a given number\")\n",
    "parser.add_argument(\"-v\", \"--verbose\", action=\"store_true\",\n",
    "                    help=\"increase output verbosity\")\n",
    "args = parser.parse_args()\n",
    "answer = args.square**2\n",
    "if args.verbose:\n",
    "    print(\"the square of {} equals {}\".format(args.square, answer))\n",
    "else:\n",
    "    print(answer)\n",
    "    \n",
    "# 执行:\n",
    "python3 learning_argparse.py 4 -v # 无所谓顺序\n",
    "# 运行结果\n",
    "the square of 4 equals 16\n",
    "16"
   ]
  },
  {
   "cell_type": "code",
   "execution_count": null,
   "metadata": {},
   "outputs": [],
   "source": [
    "# 加入运算复杂度\n",
    "import argparse\n",
    "parser = argparse.ArgumentParser()\n",
    "parser.add_argument(\"square\", type=int,\n",
    "                    help=\"display a square of a given number\")\n",
    "parser.add_argument(\"-v\", \"--verbosity\", type=int,\n",
    "                    help=\"increase output verbosity\")\n",
    "args = parser.parse_args()\n",
    "answer = args.square**2\n",
    "if args.verbosity == 2:\n",
    "    print(\"the square of {} equals {}\".format(args.square, answer))\n",
    "elif args.verbosity == 1:\n",
    "    print(\"{}^2 == {}\".format(args.square, answer))\n",
    "else:\n",
    "    print(answer)\n",
    "    \n",
    "# 执行:\n",
    "python3 learning_argparse.py -v 2 3\n",
    "# 运行结果\n",
    "the square of 3 equals 9"
   ]
  },
  {
   "cell_type": "code",
   "execution_count": null,
   "metadata": {},
   "outputs": [],
   "source": [
    "# 解决上面代码 -v传参无限制的bug\n",
    "import argparse\n",
    "parser = argparse.ArgumentParser()\n",
    "# 使用choices=[],限定传参范围\n",
    "parser.add_argument(\"square\", type=int,\n",
    "                    help=\"display a square of a given number\")\n",
    "parser.add_argument(\"-v\", \"--verbosity\", type=int, choices=[0, 1, 2],\n",
    "                    help=\"increase output verbosity\")\n",
    "args = parser.parse_args()\n",
    "answer = args.square**2\n",
    "if args.verbosity == 2:\n",
    "    print(\"the square of {} equals {}\".format(args.square, answer))\n",
    "elif args.verbosity == 1:\n",
    "    print(\"{}^2 == {}\".format(args.square, answer))\n",
    "else:\n",
    "    print(answer)"
   ]
  },
  {
   "cell_type": "code",
   "execution_count": null,
   "metadata": {},
   "outputs": [],
   "source": [
    "# 引入参数count与default\n",
    "# count用于统计指定参数在传入时出现次数\n",
    "import argparse\n",
    "parser = argparse.ArgumentParser()\n",
    "parser.add_argument(\"square\", type=int,\n",
    "                    help=\"display a square of a given number\")\n",
    "# 加入了一个关键词default。设置它的默认值为0，这样可以让它兼容其他整型。注意，如果一个可选参数没有指定，它就会被设置成None，None是不能和整型比较的(触发[TypeError][5]异常)。\n",
    "parser.add_argument(\"-v\", \"--verbosity\", action=\"count\", default=0,\n",
    "                    help=\"increase output verbosity\")\n",
    "args = parser.parse_args()\n",
    "answer = args.square**2\n",
    "if args.verbosity >= 2:\n",
    "    print(\"the square of {} equals {}\".format(args.square, answer))\n",
    "elif args.verbosity >= 1:\n",
    "    print(\"{}^2 == {}\".format(args.square, answer))\n",
    "else:\n",
    "    print(answer)\n",
    "\n",
    "# 执行:\n",
    "python3 learning_argparse.py -vvv 2\n",
    "# 运行结果\n",
    "the square of 2 equals 4"
   ]
  },
  {
   "cell_type": "code",
   "execution_count": null,
   "metadata": {},
   "outputs": [],
   "source": []
  },
  {
   "cell_type": "code",
   "execution_count": null,
   "metadata": {},
   "outputs": [],
   "source": []
  },
  {
   "cell_type": "code",
   "execution_count": null,
   "metadata": {},
   "outputs": [],
   "source": []
  }
 ],
 "metadata": {
  "kernelspec": {
   "display_name": "Python 3",
   "language": "python",
   "name": "python3"
  },
  "language_info": {
   "codemirror_mode": {
    "name": "ipython",
    "version": 3
   },
   "file_extension": ".py",
   "mimetype": "text/x-python",
   "name": "python",
   "nbconvert_exporter": "python",
   "pygments_lexer": "ipython3",
   "version": "3.6.7"
  }
 },
 "nbformat": 4,
 "nbformat_minor": 2
}
